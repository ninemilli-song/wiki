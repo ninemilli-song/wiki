{
 "cells": [
  {
   "cell_type": "markdown",
   "metadata": {},
   "source": [
    "# 最长公共前缀"
   ]
  },
  {
   "cell_type": "markdown",
   "metadata": {},
   "source": [
    "编写一个函数来查找字符串数组中的最长公共前缀。如果不存在公共前缀，则返回\"\""
   ]
  },
  {
   "cell_type": "markdown",
   "metadata": {},
   "source": [
    "## 解题思路"
   ]
  },
  {
   "cell_type": "markdown",
   "metadata": {},
   "source": [
    "1. 将列表中第一个字符串做为公共前缀\n",
    "2. 用公共前缀对比列表中下一个字符串\n",
    "3. 判断公共前缀在当前对比的字符串的索引位置是否为0\n",
    "\n",
    "    3.1 是，则返回步骤2，进行下一个对比\n",
    "    \n",
    "    3.2 否，将当前公共前缀从尾部删除一个字符，做为新公共前缀，对当前字符串重复步骤3\n",
    "    \n",
    "4. 返回公共前缀"
   ]
  },
  {
   "cell_type": "markdown",
   "metadata": {},
   "source": [
    "## 代码实现"
   ]
  },
  {
   "cell_type": "code",
   "execution_count": 1,
   "metadata": {},
   "outputs": [],
   "source": [
    "# 查找符合当前字符串的公共前缀\n",
    "# prefix - 公共前缀\n",
    "# str - 当前判断的字符串\n",
    "# return:\n",
    "#  公共前缀 or ''\n",
    "def is_common_prefix(prefix, str):\n",
    "    pre = prefix\n",
    "    if str.find(pre) == 0 or str == '':\n",
    "        return pre\n",
    "    return is_common_prefix(pre[0:len(pre) - 1], str)"
   ]
  },
  {
   "cell_type": "code",
   "execution_count": 2,
   "metadata": {},
   "outputs": [],
   "source": [
    "# 查找字符串数组的最长公共前缀\n",
    "# params:\n",
    "#     arr - 字符串数组\n",
    "def longest_common_prefix(arr):\n",
    "    common_prefix = arr[0]\n",
    "    compare_arr = arr[1:]\n",
    "    for i in compare_arr:\n",
    "        common_prefix = is_common_prefix(common_prefix, i)\n",
    "    return common_prefix"
   ]
  },
  {
   "cell_type": "code",
   "execution_count": 5,
   "metadata": {},
   "outputs": [
    {
     "data": {
      "text/plain": [
       "'fl'"
      ]
     },
     "execution_count": 5,
     "metadata": {},
     "output_type": "execute_result"
    }
   ],
   "source": [
    "longest_common_prefix([\"flower\", \"flow\", \"flight\"])"
   ]
  },
  {
   "cell_type": "code",
   "execution_count": null,
   "metadata": {},
   "outputs": [],
   "source": []
  }
 ],
 "metadata": {
  "kernelspec": {
   "display_name": "Python 3",
   "language": "python",
   "name": "python3"
  },
  "language_info": {
   "codemirror_mode": {
    "name": "ipython",
    "version": 3
   },
   "file_extension": ".py",
   "mimetype": "text/x-python",
   "name": "python",
   "nbconvert_exporter": "python",
   "pygments_lexer": "ipython3",
   "version": "3.7.3"
  }
 },
 "nbformat": 4,
 "nbformat_minor": 4
}
