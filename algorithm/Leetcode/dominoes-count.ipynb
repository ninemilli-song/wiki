{
 "cells": [
  {
   "cell_type": "markdown",
   "metadata": {},
   "source": [
    "# 等价多米诺骨牌对的数量"
   ]
  },
  {
   "cell_type": "markdown",
   "metadata": {},
   "source": [
    "给你一个由一些多米诺骨牌组成的列表 dominoes。\n",
    "\n",
    "如果其中某一张多米诺骨牌可以通过旋转 0 度或 180 度得到另一张多米诺骨牌，我们就认为这两张牌是等价的。\n",
    "\n",
    "形式上，dominoes[i] = [a, b] 和 dominoes[j] = [c, d] 等价的前提是 a==c 且 b==d，或是 a==d 且 b==c。\n",
    "\n",
    "在 0 <= i < j < dominoes.length 的前提下，找出满足 dominoes[i] 和 dominoes[j] 等价的骨牌对 (i, j) 的数量。"
   ]
  },
  {
   "cell_type": "markdown",
   "metadata": {},
   "source": [
    "## 示例：\n",
    "\n",
    "```\n",
    "输入：dominoes = [[1,2],[2,1],[3,4],[5,6]]\n",
    "输出：1\n",
    "```"
   ]
  },
  {
   "cell_type": "markdown",
   "metadata": {},
   "source": [
    "## 提示：\n",
    "\n",
    "* 1 <= dominoes.length <= 40000\n",
    "* 1 <= dominoes[i][j] <= 9"
   ]
  },
  {
   "cell_type": "code",
   "execution_count": 7,
   "metadata": {},
   "outputs": [
    {
     "name": "stdout",
     "output_type": "stream",
     "text": [
      "1.0\n"
     ]
    }
   ],
   "source": [
    "class Solution(object):\n",
    "    def numEquivDominoPairs(self, dominoes):\n",
    "        \"\"\"\n",
    "        :type dominoes: List[List[int]]\n",
    "        :rtype: int\n",
    "        \"\"\"\n",
    "        count = 0\n",
    "        dic = {}\n",
    "\n",
    "        for x in dominoes:\n",
    "            k = x[0] * 10 + x[1] if x[0] > x[1] else x[1] * 10 + x[0];\n",
    "            if k in dic:\n",
    "                dic[k] += 1\n",
    "            else:\n",
    "                dic[k] = 1\n",
    "\n",
    "        for k, v in dic.items():\n",
    "            count += v * (v - 1) / 2\n",
    "\n",
    "        return count\n",
    "        \n",
    "\n",
    "dominoes = [[1,2],[2,1],[3,4],[5,6]]\n",
    "s = Solution()\n",
    "print(s.numEquivDominoPairs(dominoes))"
   ]
  },
  {
   "cell_type": "code",
   "execution_count": null,
   "metadata": {},
   "outputs": [],
   "source": []
  }
 ],
 "metadata": {
  "kernelspec": {
   "display_name": "Python 3",
   "language": "python",
   "name": "python3"
  },
  "language_info": {
   "codemirror_mode": {
    "name": "ipython",
    "version": 3
   },
   "file_extension": ".py",
   "mimetype": "text/x-python",
   "name": "python",
   "nbconvert_exporter": "python",
   "pygments_lexer": "ipython3",
   "version": "3.7.3"
  }
 },
 "nbformat": 4,
 "nbformat_minor": 4
}
